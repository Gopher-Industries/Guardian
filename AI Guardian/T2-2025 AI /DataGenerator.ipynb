{
 "cells": [
  {
   "cell_type": "code",
   "execution_count": 70,
   "id": "2f240044",
   "metadata": {},
   "outputs": [],
   "source": [
    "import pandas as pd\n",
    "import random\n",
    "import json\n",
    "import re\n",
    "from datetime import datetime, timedelta, timezone\n",
    "import subprocess"
   ]
  },
  {
   "cell_type": "code",
   "execution_count": 71,
   "id": "9f2f5f94",
   "metadata": {},
   "outputs": [],
   "source": [
    "\n",
    "# =========================\n",
    "# CONFIGURATION\n",
    "# =========================\n",
    "SEED = 42\n",
    "START_DATE = \"2025-06-01\"\n",
    "NUM_DAYS = 1\n",
    "PATIENT_LIMIT = 1\n",
    "random.seed(SEED)\n"
   ]
  },
  {
   "cell_type": "code",
   "execution_count": 72,
   "id": "3d1d8a31",
   "metadata": {},
   "outputs": [],
   "source": [
    "\n",
    "# =========================\n",
    "# FUNCTIONS\n",
    "# =========================\n",
    "\n",
    "def query_ollama(model: str, prompt: str) -> str:\n",
    "    \"\"\"Send a prompt to Ollama and get text output.\"\"\"\n",
    "    try:\n",
    "        result = subprocess.run(\n",
    "            [\"ollama\", \"run\", model],\n",
    "            input=prompt,\n",
    "            text=True,\n",
    "            capture_output=True,\n",
    "            check=True\n",
    "        )\n",
    "        return result.stdout.strip()\n",
    "    except subprocess.CalledProcessError as e:\n",
    "        print(\"Ollama error:\", e.stderr)\n",
    "        return \"[]\"\n",
    "\n",
    "def generate_observation_windows(start_date, num_days):\n",
    "    windows = []\n",
    "    base = datetime.strptime(start_date, \"%Y-%m-%d\").replace(tzinfo=timezone.utc)\n",
    "    for day in range(num_days):\n",
    "        for start_hour in [0, 6, 12, 18]:\n",
    "            start = base + timedelta(days=day, hours=start_hour)\n",
    "            end = start + timedelta(hours=6)\n",
    "            windows.append((start.isoformat(), end.isoformat()))\n",
    "    return windows\n"
   ]
  },
  {
   "cell_type": "code",
   "execution_count": 73,
   "id": "7a68117a",
   "metadata": {},
   "outputs": [],
   "source": [
    "\n",
    "# ---------- Vitals ----------\n",
    "def random_vitals(state=\"normal\"):\n",
    "    if state == \"normal\":\n",
    "        hr = random.randint(65, 80)\n",
    "        spo2 = random.randint(95, 99)\n",
    "        temp = round(random.uniform(36.4, 37.0), 1)\n",
    "        sys_bp = random.randint(110, 130)\n",
    "        dia_bp = random.randint(70, 80)\n",
    "    elif state == \"uncomfortable\":\n",
    "        hr = random.randint(75, 90)\n",
    "        spo2 = random.randint(92, 97)\n",
    "        temp = round(random.uniform(37.0, 37.5), 1)\n",
    "        sys_bp = random.randint(130, 140)\n",
    "        dia_bp = random.randint(80, 85)\n",
    "    else:  # sick\n",
    "        hr = random.randint(90, 110)\n",
    "        spo2 = random.randint(88, 93)\n",
    "        temp = round(random.uniform(37.6, 38.5), 1)\n",
    "        sys_bp = random.randint(140, 150)\n",
    "        dia_bp = random.randint(85, 95)\n",
    "\n",
    "    return {\n",
    "        \"heartRate\": {\"value\": hr, \"unit\": \"bpm\"},\n",
    "        \"spo2\": {\"value\": spo2, \"unit\": \"%\"},\n",
    "        \"temperature\": {\"value\": temp, \"unit\": \"°C\"},\n",
    "        \"bloodPressure\": {\"systolic\": sys_bp, \"diastolic\": dia_bp, \"unit\": \"mmHg\"},\n",
    "    }\n"
   ]
  },
  {
   "cell_type": "code",
   "execution_count": 74,
   "id": "d86e5ddb",
   "metadata": {},
   "outputs": [],
   "source": [
    "# ---------- Medications ----------\n",
    "from datetime import datetime, timedelta\n",
    "\n",
    "def suggest_medications_with_ollama(vitals, obs_start):\n",
    "    prompt = f\"\"\"\n",
    "You are a medical assistant. \n",
    "\n",
    "Patient vitals:\n",
    "{json.dumps(vitals, indent=2)}\n",
    "\n",
    "Observation start: {obs_start}\n",
    "\n",
    "Suggest 1–2 relevant general medications with:\n",
    "- name\n",
    "- dose in mg (always include unit, e.g., \"75mg\")\n",
    "- complianceStatus (Taken, Missed, Delayed)\n",
    "\n",
    "Do not include scheduledTime — it will be added later.\n",
    "Return as a JSON array.\n",
    "\"\"\"\n",
    "    response = query_ollama(\"gemma3:4b\", prompt)\n",
    "    print(\"Raw Ollama response for meds:\", response)\n",
    "\n",
    "    cleaned = re.sub(r\"^```json|```|'|\\\"\\\"\\\"\", \"\", response, flags=re.IGNORECASE).strip()\n",
    "\n",
    "    try:\n",
    "        meds = json.loads(cleaned)\n",
    "\n",
    "        # Parse observation start time\n",
    "        obs_dt = datetime.fromisoformat(obs_start.replace(\"Z\", \"+00:00\"))\n",
    "\n",
    "        # Assign realistic scheduled times within 4h window\n",
    "        for med in meds:\n",
    "            if \"mg\" not in med[\"dose\"]:\n",
    "                med[\"dose\"] = f\"{med['dose']}mg\"\n",
    "\n",
    "            rand_minutes = random.randint(0, 240)  # 0–240 min (4h)\n",
    "            sched_time = obs_dt + timedelta(minutes=rand_minutes)\n",
    "            med[\"scheduledTime\"] = sched_time.isoformat().replace(\"+00:00\", \"Z\")\n",
    "\n",
    "        print(f\"✅ Suggested {len(meds)} medications with scheduled times (within 4h of {obs_start}).\")\n",
    "\n",
    "    except json.JSONDecodeError:\n",
    "        print(\"⚠️ Ollama response could not be parsed, using empty meds list\")\n",
    "        meds = []\n",
    "\n",
    "    return meds\n"
   ]
  },
  {
   "cell_type": "code",
   "execution_count": 75,
   "id": "9afcddf7",
   "metadata": {},
   "outputs": [],
   "source": [
    "# ---------- Nursing Note ----------\n",
    "def generate_nursing_note_with_ollama(vitals, medications, obs_start, state=\"normal\"):\n",
    "    # Tailor instructions based on patient state\n",
    "    if state == \"normal\":\n",
    "        condition_instruction = \"Summarize the patient as stable, alert, and comfortable.\"\n",
    "    elif state == \"uncomfortable\":\n",
    "        condition_instruction = \"Indicate mild discomfort, slight deviations in vitals, and advise continued monitoring.\"\n",
    "    else:  # sick\n",
    "        condition_instruction = \"Document the patient as unwell with notable abnormalities; recommend closer observation and possible escalation.\"\n",
    "\n",
    "    prompt = f\"\"\"\n",
    "You are an experienced nurse documenting a patient observation. \n",
    "Write a concise, professional, and natural-sounding nursing note.\n",
    "\n",
    "- Use 3–4 sentences only.  \n",
    "- Summarize the patient's condition based on vitals, using natural language rather than repeating raw numbers.  \n",
    "- Mention medications administered clearly and naturally.  \n",
    "- {condition_instruction}  \n",
    "- Vary sentence structure to avoid repetitive wording.  \n",
    "- Tone must be factual and objective; do not include personal commentary.  \n",
    "\n",
    "Patient vitals:\n",
    "{json.dumps(vitals, indent=2)}\n",
    "\n",
    "Medications administered:\n",
    "{json.dumps(medications, indent=2)}\n",
    "\n",
    "Observation start: {obs_start}\n",
    "\n",
    "Return plain text only, no markdown, no JSON, no headers.\n",
    "\"\"\"\n",
    "    response = query_ollama(\"nursing_note_generator\", prompt)\n",
    "    print(\"Raw Ollama response for nursing note:\", response)\n",
    "\n",
    "    # Clean the response\n",
    "    note = re.sub(r\"^```.*|```$\", \"\", response, flags=re.MULTILINE).strip()\n",
    "    note = re.sub(r\"^(Nursing Note:|Output:)\\s*\", \"\", note, flags=re.IGNORECASE).strip()\n",
    "\n",
    "    # Fallback note in case Ollama output is empty\n",
    "    if not note:\n",
    "        fallback_templates = {\n",
    "            \"normal\": [\n",
    "                \"Patient appears stable and comfortable. Vitals are within expected ranges. Medications administered as prescribed.\",\n",
    "                \"Observation shows patient alert with stable vitals. Medications given as scheduled. No concerns noted.\",\n",
    "                \"Patient remains well, vitals normal. All prescribed medications were taken without issue.\"\n",
    "            ],\n",
    "            \"uncomfortable\": [\n",
    "                \"Patient shows mild discomfort with slight fluctuations in vitals. Medications administered as ordered. Monitoring advised.\",\n",
    "                \"Observation indicates patient uneasy; vitals mildly irregular. Medications given. Continued supervision recommended.\",\n",
    "                \"Patient exhibits mild symptoms, vitals slightly outside normal range. Medications taken as scheduled.\"\n",
    "            ],\n",
    "            \"sick\": [\n",
    "                \"Patient presents with abnormal vitals and appears unwell. Medications administered. Close monitoring required.\",\n",
    "                \"Observation reveals patient in poor condition with significant vital deviations. Medications given as prescribed. Escalation may be necessary.\",\n",
    "                \"Patient condition unstable with notable abnormalities in vitals. Medications administered, ongoing observation needed.\"\n",
    "            ]\n",
    "        }\n",
    "        note = random.choice(fallback_templates[state])\n",
    "\n",
    "    print(\"✅ Final Nursing Note:\", note)\n",
    "    return note\n"
   ]
  },
  {
   "cell_type": "code",
   "execution_count": 76,
   "id": "c8910504",
   "metadata": {},
   "outputs": [],
   "source": [
    "# ---------- ADLs ----------\n",
    "def random_adls(state=\"normal\"):\n",
    "    if state == \"normal\":\n",
    "        return {\n",
    "            \"stepsTaken\": random.randint(500, 2000),   # ~2k–8k per day → scaled for 6h\n",
    "            \"calorieIntake\": random.randint(400, 900), # One or two meals/snacks\n",
    "            \"sleepHours\": round(random.uniform(0, 2), 1), # Could nap within 6h\n",
    "            \"waterIntakeMl\": random.randint(300, 800), # A few glasses\n",
    "            \"mealsSkipped\": random.choices([0, 1], [0.8, 0.2])[0],\n",
    "            \"exerciseMinutes\": random.randint(5, 20),  # Short sessions possible\n",
    "            \"bathroomVisits\": random.randint(1, 3),    # Typical 6h range\n",
    "        }\n",
    "    elif state == \"uncomfortable\":\n",
    "        return {\n",
    "            \"stepsTaken\": random.randint(200, 1000),\n",
    "            \"calorieIntake\": random.randint(200, 600),\n",
    "            \"sleepHours\": round(random.uniform(0, 1), 1),\n",
    "            \"waterIntakeMl\": random.randint(200, 500),\n",
    "            \"mealsSkipped\": random.choices([0, 1], [0.5, 0.5])[0],\n",
    "            \"exerciseMinutes\": random.randint(0, 10),\n",
    "            \"bathroomVisits\": random.randint(2, 5),    # Could be slightly irregular\n",
    "        }\n",
    "    else:  # sick\n",
    "        return {\n",
    "            \"stepsTaken\": random.randint(0, 400),\n",
    "            \"calorieIntake\": random.randint(100, 400),\n",
    "            \"sleepHours\": round(random.uniform(1, 3), 1), # Might rest more\n",
    "            \"waterIntakeMl\": random.randint(100, 400),\n",
    "            \"mealsSkipped\": random.choices([1, 2], [0.6, 0.4])[0],\n",
    "            \"exerciseMinutes\": 0,\n",
    "            \"bathroomVisits\": random.randint(3, 7),    # Higher in illness (e.g. GI upset)\n",
    "        }\n"
   ]
  },
  {
   "cell_type": "code",
   "execution_count": 77,
   "id": "ac88fad5",
   "metadata": {},
   "outputs": [],
   "source": [
    "# ---------- Behaviour Tags ----------\n",
    "def generate_behaviour_tags(state=\"normal\", vitals=None, medications=None, adls=None):\n",
    "    tags = []\n",
    "\n",
    "    # Base state-driven probabilities\n",
    "    if state == \"normal\":\n",
    "        if random.random() < 0.8: tags.append(\"cooperative\")\n",
    "        if random.random() < 0.2: tags.append(\"talkative\")\n",
    "    elif state == \"uncomfortable\":\n",
    "        if random.random() < 0.6: tags.append(\"refusedActivity\")\n",
    "        if random.random() < 0.5: tags.append(\"poorDiet\")\n",
    "        if random.random() < 0.5: tags.append(\"agitated\")\n",
    "        if random.random() < 0.3: tags.append(\"restless\")\n",
    "        if random.random() < 0.3: tags.append(\"anxious\")\n",
    "    else:  # sick\n",
    "        if random.random() < 0.7: tags.append(\"refusedActivity\")\n",
    "        if random.random() < 0.6: tags.append(\"poorDiet\")\n",
    "        if random.random() < 0.5: tags.append(\"noncompliantMedication\")\n",
    "        if random.random() < 0.6: tags.append(\"agitated\")\n",
    "        if random.random() < 0.4: tags.append(\"weak\")\n",
    "        if random.random() < 0.4: tags.append(\"lethargic\")\n",
    "        if random.random() < 0.3: tags.append(\"confused\")\n",
    "\n",
    "    # Vitals-driven tags\n",
    "    if vitals:\n",
    "        if vitals[\"temperature\"][\"value\"] > 38.0:\n",
    "            tags.append(\"feverish\")\n",
    "            tags.append(\"restless\")\n",
    "        if vitals[\"heartRate\"][\"value\"] > 110:\n",
    "            tags.append(\"anxious\")\n",
    "            tags.append(\"agitated\")\n",
    "        if vitals[\"heartRate\"][\"value\"] < 55:\n",
    "            tags.append(\"dizzy\")\n",
    "            tags.append(\"lethargic\")\n",
    "        if vitals[\"spo2\"][\"value\"] < 92:\n",
    "            tags.append(\"weak\")\n",
    "            tags.append(\"fatigued\")\n",
    "        if vitals[\"bloodPressure\"][\"systolic\"] > 150 or vitals[\"bloodPressure\"][\"diastolic\"] > 95:\n",
    "            tags.append(\"restless\")\n",
    "            tags.append(\"irritable\")\n",
    "\n",
    "    # Medication-driven tags\n",
    "    if medications:\n",
    "        for med in medications:\n",
    "            name = med.get(\"name\", \"\").lower()\n",
    "            status = med.get(\"complianceStatus\")\n",
    "            if status == \"Missed\":\n",
    "                tags.append(\"noncompliantMedication\")\n",
    "            if any(pain in name for pain in [\"pain\", \"ibuprofen\", \"acetaminophen\"]):\n",
    "                tags.append(\"inPain\")\n",
    "                tags.append(\"complaining\")\n",
    "            if any(anti in name for anti in [\"anti\", \"nausea\"]):\n",
    "                tags.append(\"nauseous\")\n",
    "\n",
    "    # ADLs-driven tags\n",
    "    if adls:\n",
    "        if adls.get(\"stepsTaken\",0) < 500:\n",
    "            tags.append(\"lowMobility\")\n",
    "        if adls.get(\"sleepHours\",0) < 2:\n",
    "            tags.append(\"tired\")\n",
    "            tags.append(\"sleepy\")\n",
    "        if adls.get(\"calorieIntake\",0) < 200:\n",
    "            tags.append(\"poorNutrition\")\n",
    "        if adls.get(\"waterIntakeMl\",0) < 200:\n",
    "            tags.append(\"dehydrated\")\n",
    "        if adls.get(\"mealsSkipped\",0) > 0:\n",
    "            tags.append(\"skippedMeals\")\n",
    "        if adls.get(\"exerciseMinutes\",0) == 0:\n",
    "            tags.append(\"inactive\")\n",
    "\n",
    "    # Remove duplicates\n",
    "    return list(set(tags))\n"
   ]
  },
  {
   "cell_type": "code",
   "execution_count": 78,
   "id": "7be80184",
   "metadata": {},
   "outputs": [],
   "source": [
    "\n",
    "# ---------- Emotion Analysis ----------\n",
    "def generate_emotion_analysis(state=\"normal\"):\n",
    "    if state == \"normal\":\n",
    "        return {\"tags\": [], \"confidenceScores\": {}}\n",
    "    elif state == \"uncomfortable\":\n",
    "        return {\n",
    "            \"tags\": [\"frustrated\"],\n",
    "            \"confidenceScores\": {\"frustrated\": round(random.uniform(0.6, 0.85), 2)},\n",
    "        }\n",
    "    else:\n",
    "        return {\n",
    "            \"tags\": [\"frustrated\", \"lowEnergy\"],\n",
    "            \"confidenceScores\": {\n",
    "                \"frustrated\": round(random.uniform(0.75, 0.95), 2),\n",
    "                \"lowEnergy\": round(random.uniform(0.7, 0.9), 2),\n",
    "            },\n",
    "        }\n"
   ]
  },
  {
   "cell_type": "code",
   "execution_count": 79,
   "id": "9da8ef7c",
   "metadata": {},
   "outputs": [],
   "source": [
    "import random\n",
    "\n",
    "# ---------- Symptom Inference ----------\n",
    "def infer_symptoms(vitals, medications, adls, nursing_note):\n",
    "    \"\"\"Infer likely symptoms from vitals, medications, ADLs, and nursing note with realistic probabilities.\"\"\"\n",
    "    symptoms = []\n",
    "\n",
    "    # Vitals-based inference\n",
    "    if vitals[\"temperature\"][\"value\"] > 37.5 and random.random() < 0.9:\n",
    "        symptoms.append(\"fever\")\n",
    "    if vitals[\"heartRate\"][\"value\"] < 60 and random.random() < 0.7:\n",
    "        symptoms.append(\"bradycardia\")\n",
    "    elif vitals[\"heartRate\"][\"value\"] > 100 and random.random() < 0.8:\n",
    "        symptoms.append(\"tachycardia\")\n",
    "    if vitals[\"bloodPressure\"][\"systolic\"] > 140 or vitals[\"bloodPressure\"][\"diastolic\"] > 90:\n",
    "        if random.random() < 0.8:\n",
    "            symptoms.append(\"high blood pressure\")\n",
    "    if vitals[\"spo2\"][\"value\"] < 94 and random.random() < 0.9:\n",
    "        symptoms.append(\"low oxygen saturation\")\n",
    "\n",
    "    # Medication-based hints\n",
    "    for med in medications:\n",
    "        name_lower = med[\"name\"].lower()\n",
    "        if any(x in name_lower for x in [\"pain\", \"ibuprofen\", \"acetaminophen\"]) and random.random() < 0.9:\n",
    "            symptoms.append(\"pain\")\n",
    "        if any(x in name_lower for x in [\"anti\", \"nausea\"]) and random.random() < 0.7:\n",
    "            symptoms.append(\"nausea\")\n",
    "\n",
    "    # ADLs-based hints\n",
    "    if adls[\"stepsTaken\"] < 500 and random.random() < 0.8:\n",
    "        symptoms.append(\"low mobility\")\n",
    "    if adls[\"sleepHours\"] < 4 and random.random() < 0.8:\n",
    "        symptoms.append(\"fatigue\")\n",
    "    if adls[\"calorieIntake\"] < 1200 and random.random() < 0.7:\n",
    "        symptoms.append(\"poor nutrition\")\n",
    "    if adls[\"waterIntakeMl\"] < 800 and random.random() < 0.6:\n",
    "        symptoms.append(\"dehydration\")\n",
    "    if adls[\"mealsSkipped\"] > 0 and random.random() < 0.6:\n",
    "        symptoms.append(\"missed meals\")\n",
    "\n",
    "    # Nursing note keyword extraction with probability\n",
    "    keywords = [\"pain\", \"headache\", \"discomfort\", \"weakness\", \"dizzy\", \"tired\", \"nausea\"]\n",
    "    for kw in keywords:\n",
    "        if kw in nursing_note.lower() and random.random() < 0.9:\n",
    "            symptoms.append(kw)\n",
    "\n",
    "    # Remove duplicates\n",
    "    return list(set(symptoms))\n"
   ]
  },
  {
   "cell_type": "code",
   "execution_count": 80,
   "id": "6eaafea6",
   "metadata": {},
   "outputs": [],
   "source": [
    "\n",
    "# ---------- Clinical Summary with Ollama ----------\n",
    "def generate_clinical_summary_with_ollama(vitals, medications, adls, nursing_note, obs_start):\n",
    "    symptoms = infer_symptoms(vitals, medications, adls, nursing_note)\n",
    "\n",
    "    prompt = f\"\"\"\n",
    "You are a clinical assistant. Write a concise clinical summary for a patient observation.\n",
    "\n",
    "Vitals:\n",
    "{json.dumps(vitals, indent=2)}\n",
    "\n",
    "Medications:\n",
    "{json.dumps(medications, indent=2)}\n",
    "\n",
    "ADLs:\n",
    "{json.dumps(adls, indent=2)}\n",
    "\n",
    "Nursing note:\n",
    "{nursing_note}\n",
    "\n",
    "Observed symptoms:\n",
    "{json.dumps(symptoms)}\n",
    "\n",
    "Observation start: {obs_start}\n",
    "\n",
    "Return a single concise clinical summary (1–2 sentences), mentioning relevant vitals, symptoms, and medications. Do not include any preamble or explanations. Plain text only.\n",
    "\"\"\"\n",
    "    response = query_ollama(\"gemma3:4b\", prompt)\n",
    "    # Clean any ``` fences\n",
    "    summary = re.sub(r\"^```|```$\", \"\", response).strip()\n",
    "    print(\"✅ Generated clinical summary with Ollama:\", summary)\n",
    "    return summary\n"
   ]
  },
  {
   "cell_type": "code",
   "execution_count": 81,
   "id": "047a9065",
   "metadata": {},
   "outputs": [],
   "source": [
    "\n",
    "# ---------- Generate Patient Observations ----------\n",
    "def generate_patient_observations(patient, start_date, num_days):\n",
    "    windows = generate_observation_windows(start_date, num_days)\n",
    "    records = []\n",
    "\n",
    "    for obs_start, obs_end in windows:\n",
    "        # Determine state based on probabilities\n",
    "        state = random.choices(\n",
    "            [\"normal\", \"uncomfortable\", \"sick\"], weights=[0.7, 0.2, 0.1], k=1\n",
    "        )[0]\n",
    "\n",
    "        vitals = random_vitals(state)\n",
    "        medications = suggest_medications_with_ollama(vitals, obs_start)\n",
    "        nursing_note = generate_nursing_note_with_ollama(vitals, medications, obs_start,state)\n",
    "        adls = random_adls(state)\n",
    "        record = {\n",
    "            \"patientId\": patient[\"patient_id\"],\n",
    "            \"age\": int(patient[\"age\"]),\n",
    "            \"gender\": patient[\"gender\"],\n",
    "            \"observationStart\": obs_start,\n",
    "            \"observationEnd\": obs_end,\n",
    "            \"nursingNote\": nursing_note,\n",
    "            \"medications\": medications,\n",
    "            \"vitals\": vitals,\n",
    "            \"adls\": adls,\n",
    "            \"behaviourTags\": generate_behaviour_tags(state,vitals,medications,adls),\n",
    "            \"emotionAnalysis\": generate_emotion_analysis(state),\n",
    "            \"clinicalSummary\": generate_clinical_summary_with_ollama(vitals, medications, adls,nursing_note,state),\n",
    "            \"entitiesExtracted\": {\"symptoms\": [], \"vitals\": [], \"procedures\": [], \"medications\": []},\n",
    "            \"baselineStats\": {\n",
    "                \"avgHeartRate\": round(random.uniform(70, 85), 1),\n",
    "                \"avgSpo2\": round(random.uniform(95, 98), 1),\n",
    "                \"avgSleepHours\": round(random.uniform(5, 8), 1),\n",
    "                \"avgCalorieIntake\": round(random.uniform(1600, 2200), 1),\n",
    "                \"avgScreenTimeMinutes\": round(random.uniform(30, 180), 1),\n",
    "                \"avgBathroomVisits\": random.randint(2, 6),\n",
    "                \"usualDietCompliance\": round(random.uniform(0.7, 1.0), 2)\n",
    "            },\n",
    "            \"alerts\": []\n",
    "        }\n",
    "        print(f\"Generated observation for patient {patient['patient_id']} ({state})\")\n",
    "        records.append(record)\n",
    "    return records\n"
   ]
  },
  {
   "cell_type": "code",
   "execution_count": 82,
   "id": "0b6fb1f5",
   "metadata": {},
   "outputs": [
    {
     "name": "stderr",
     "output_type": "stream",
     "text": [
      "python(40530) MallocStackLogging: can't turn off malloc stack logging because it was not enabled.\n"
     ]
    },
    {
     "name": "stdout",
     "output_type": "stream",
     "text": [
      "Raw Ollama response for meds: ```json\n",
      "[\n",
      "  {\n",
      "    \"name\": \"Acetaminophen\",\n",
      "    \"dose\": \"500mg\",\n",
      "    \"complianceStatus\": \"Taken\"\n",
      "  },\n",
      "  {\n",
      "    \"name\": \"Folic Acid\",\n",
      "    \"dose\": \"1mg\",\n",
      "    \"complianceStatus\": \"Taken\"\n",
      "  }\n",
      "]\n",
      "```\n",
      "✅ Suggested 2 medications with scheduled times (within 4h of 2025-06-01T00:00:00+00:00).\n"
     ]
    },
    {
     "name": "stderr",
     "output_type": "stream",
     "text": [
      "python(40531) MallocStackLogging: can't turn off malloc stack logging because it was not enabled.\n"
     ]
    },
    {
     "name": "stdout",
     "output_type": "stream",
     "text": [
      "Raw Ollama response for nursing note: Patient remains stable with a heart rate of 65 bpm and oxygen saturation at 97%. Blood pressure was 114/71 mmHg, and the temperature was 36.5°C. Acetaminophen 500mg was administered, and folic acid 1mg was also taken as prescribed. The patient reports being comfortable and is alert.\n",
      "✅ Final Nursing Note: Patient remains stable with a heart rate of 65 bpm and oxygen saturation at 97%. Blood pressure was 114/71 mmHg, and the temperature was 36.5°C. Acetaminophen 500mg was administered, and folic acid 1mg was also taken as prescribed. The patient reports being comfortable and is alert.\n"
     ]
    },
    {
     "name": "stderr",
     "output_type": "stream",
     "text": [
      "python(40533) MallocStackLogging: can't turn off malloc stack logging because it was not enabled.\n"
     ]
    },
    {
     "name": "stdout",
     "output_type": "stream",
     "text": [
      "✅ Generated clinical summary with Ollama: Patient remains stable with a heart rate of 65 bpm and oxygen saturation at 97%, exhibiting fatigue, dehydration, and pain. Acetaminophen 500mg was administered, and the patient is currently taking folic acid 1mg as prescribed.\n",
      "Generated observation for patient P0001 (normal)\n"
     ]
    },
    {
     "name": "stderr",
     "output_type": "stream",
     "text": [
      "python(40534) MallocStackLogging: can't turn off malloc stack logging because it was not enabled.\n"
     ]
    },
    {
     "name": "stdout",
     "output_type": "stream",
     "text": [
      "Raw Ollama response for meds: ```json\n",
      "[\n",
      "  {\n",
      "    \"name\": \"Metoprolol\",\n",
      "    \"dose\": \"50mg\",\n",
      "    \"complianceStatus\": \"Taken\"\n",
      "  },\n",
      "  {\n",
      "    \"name\": \"Omeprazole\",\n",
      "    \"dose\": \"20mg\",\n",
      "    \"complianceStatus\": \"Taken\"\n",
      "  }\n",
      "]\n",
      "```\n",
      "✅ Suggested 2 medications with scheduled times (within 4h of 2025-06-01T06:00:00+00:00).\n"
     ]
    },
    {
     "name": "stderr",
     "output_type": "stream",
     "text": [
      "python(40537) MallocStackLogging: can't turn off malloc stack logging because it was not enabled.\n"
     ]
    },
    {
     "name": "stdout",
     "output_type": "stream",
     "text": [
      "Raw Ollama response for nursing note: Patient remains stable with a heart rate of 75 bpm and oxygen saturation at 95%. Blood pressure was 113/75 mmHg, and the temperature was 36.5°C. The patient reports feeling comfortable and is alert. Metoprolol 50mg and Omeprazole 20mg were administered as prescribed.\n",
      "✅ Final Nursing Note: Patient remains stable with a heart rate of 75 bpm and oxygen saturation at 95%. Blood pressure was 113/75 mmHg, and the temperature was 36.5°C. The patient reports feeling comfortable and is alert. Metoprolol 50mg and Omeprazole 20mg were administered as prescribed.\n"
     ]
    },
    {
     "name": "stderr",
     "output_type": "stream",
     "text": [
      "python(40543) MallocStackLogging: can't turn off malloc stack logging because it was not enabled.\n"
     ]
    },
    {
     "name": "stdout",
     "output_type": "stream",
     "text": [
      "✅ Generated clinical summary with Ollama: Patient remains stable with a heart rate of 75 bpm and oxygen saturation at 95%, presenting with fatigue and dehydration. Metoprolol 50mg and Omeprazole 20mg were administered as prescribed.\n",
      "Generated observation for patient P0001 (normal)\n"
     ]
    },
    {
     "name": "stderr",
     "output_type": "stream",
     "text": [
      "python(40544) MallocStackLogging: can't turn off malloc stack logging because it was not enabled.\n"
     ]
    },
    {
     "name": "stdout",
     "output_type": "stream",
     "text": [
      "Raw Ollama response for meds: ```json\n",
      "[\n",
      "  {\n",
      "    \"name\": \"Acetaminophen\",\n",
      "    \"dose\": \"500mg\",\n",
      "    \"complianceStatus\": \"Taken\"\n",
      "  },\n",
      "  {\n",
      "    \"name\": \"Furosemide\",\n",
      "    \"dose\": \"20mg\",\n",
      "    \"complianceStatus\": \"Taken\"\n",
      "  }\n",
      "]\n",
      "```\n",
      "✅ Suggested 2 medications with scheduled times (within 4h of 2025-06-01T12:00:00+00:00).\n"
     ]
    },
    {
     "name": "stderr",
     "output_type": "stream",
     "text": [
      "python(40545) MallocStackLogging: can't turn off malloc stack logging because it was not enabled.\n"
     ]
    },
    {
     "name": "stdout",
     "output_type": "stream",
     "text": [
      "Raw Ollama response for nursing note: Patient remains stable with a heart rate of 79 bpm and oxygen saturation at 97%. Blood pressure was 121/73 mmHg, and temperature was 36.5°C. Acetaminophen 500mg and Furosemide 20mg were administered as prescribed. The patient reports feeling comfortable and is alert.\n",
      "✅ Final Nursing Note: Patient remains stable with a heart rate of 79 bpm and oxygen saturation at 97%. Blood pressure was 121/73 mmHg, and temperature was 36.5°C. Acetaminophen 500mg and Furosemide 20mg were administered as prescribed. The patient reports feeling comfortable and is alert.\n"
     ]
    },
    {
     "name": "stderr",
     "output_type": "stream",
     "text": [
      "python(40548) MallocStackLogging: can't turn off malloc stack logging because it was not enabled.\n"
     ]
    },
    {
     "name": "stdout",
     "output_type": "stream",
     "text": [
      "✅ Generated clinical summary with Ollama: Patient remains stable with vital signs including a heart rate of 79 bpm and oxygen saturation of 97%, while exhibiting symptoms of dehydration, pain, and poor nutrition. Acetaminophen and Furosemide were administered as prescribed.\n",
      "Generated observation for patient P0001 (normal)\n"
     ]
    },
    {
     "name": "stderr",
     "output_type": "stream",
     "text": [
      "python(40549) MallocStackLogging: can't turn off malloc stack logging because it was not enabled.\n"
     ]
    },
    {
     "name": "stdout",
     "output_type": "stream",
     "text": [
      "Raw Ollama response for meds: ```json\n",
      "[\n",
      "  {\n",
      "    \"name\": \"Acetaminophen\",\n",
      "    \"dose\": \"500mg\",\n",
      "    \"complianceStatus\": \"Taken\"\n",
      "  },\n",
      "  {\n",
      "    \"name\": \"Ondansetron\",\n",
      "    \"dose\": \"4mg\",\n",
      "    \"complianceStatus\": \"Taken\"\n",
      "  }\n",
      "]\n",
      "```\n",
      "✅ Suggested 2 medications with scheduled times (within 4h of 2025-06-01T18:00:00+00:00).\n"
     ]
    },
    {
     "name": "stderr",
     "output_type": "stream",
     "text": [
      "python(40550) MallocStackLogging: can't turn off malloc stack logging because it was not enabled.\n"
     ]
    },
    {
     "name": "stdout",
     "output_type": "stream",
     "text": [
      "Raw Ollama response for nursing note: Patient remains stable with a heart rate of 75 bpm and oxygen saturation at 96%. Blood pressure was 122/80 mmHg, and the temperature was 36.8°C. Acetaminophen 500mg and Ondansetron 4mg were administered as prescribed. The patient reports being comfortable and is alert.\n",
      "✅ Final Nursing Note: Patient remains stable with a heart rate of 75 bpm and oxygen saturation at 96%. Blood pressure was 122/80 mmHg, and the temperature was 36.8°C. Acetaminophen 500mg and Ondansetron 4mg were administered as prescribed. The patient reports being comfortable and is alert.\n"
     ]
    },
    {
     "name": "stderr",
     "output_type": "stream",
     "text": [
      "python(40551) MallocStackLogging: can't turn off malloc stack logging because it was not enabled.\n"
     ]
    },
    {
     "name": "stdout",
     "output_type": "stream",
     "text": [
      "✅ Generated clinical summary with Ollama: Patient remains stable with a heart rate of 75 bpm and oxygen saturation at 96%, presenting with fatigue, dehydration, and poor nutrition. Acetaminophen and Ondansetron were administered as prescribed.\n",
      "Generated observation for patient P0001 (normal)\n",
      "Generated 4 observations for 1 patients.\n"
     ]
    }
   ],
   "source": [
    "\n",
    "# =========================\n",
    "# MAIN SCRIPT\n",
    "# =========================\n",
    "\n",
    "if __name__ == \"__main__\":\n",
    "    patients = pd.read_csv(\"patients.csv\").head(PATIENT_LIMIT)\n",
    "    all_records = []\n",
    "\n",
    "    for _, patient in patients.iterrows():\n",
    "        all_records.extend(generate_patient_observations(patient, START_DATE, NUM_DAYS))\n",
    "\n",
    "    with open(\"patient_observations.json\", \"w\") as f:\n",
    "        json.dump(all_records, f, indent=2)\n",
    "\n",
    "    print(f\"Generated {len(all_records)} observations for {len(patients)} patients.\")\n"
   ]
  },
  {
   "cell_type": "code",
   "execution_count": 83,
   "id": "e7d196f4",
   "metadata": {},
   "outputs": [
    {
     "name": "stdout",
     "output_type": "stream",
     "text": [
      "Status code: 200\n",
      "Response text: {\"status\":\"success\",\"message\":\"Data inserted\"}\n"
     ]
    }
   ],
   "source": [
    "import requests\n",
    "import json\n",
    "\n",
    "# URL of your Google Apps Script Web App\n",
    "url = \"https://script.google.com/macros/s/AKfycbyPOXMMnMb4kC5lbGEnqirRph_HcsLFgyfqWuDnNDmqEq9QDHnLKWNvN7_MvPks2A-v-w/exec\"\n",
    "\n",
    "# Load your generated observations\n",
    "with open(\"patient_observations.json\") as f:\n",
    "    data = json.load(f)\n",
    "\n",
    "# Send POST request\n",
    "response = requests.post(url, json=data)\n",
    "\n",
    "# Check response\n",
    "print(\"Status code:\", response.status_code)\n",
    "print(\"Response text:\", response.text)\n"
   ]
  }
 ],
 "metadata": {
  "kernelspec": {
   "display_name": "base",
   "language": "python",
   "name": "python3"
  },
  "language_info": {
   "codemirror_mode": {
    "name": "ipython",
    "version": 3
   },
   "file_extension": ".py",
   "mimetype": "text/x-python",
   "name": "python",
   "nbconvert_exporter": "python",
   "pygments_lexer": "ipython3",
   "version": "3.12.2"
  }
 },
 "nbformat": 4,
 "nbformat_minor": 5
}
