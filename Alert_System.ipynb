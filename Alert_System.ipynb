{
  "nbformat": 4,
  "nbformat_minor": 0,
  "metadata": {
    "colab": {
      "provenance": []
    },
    "kernelspec": {
      "name": "python3",
      "display_name": "Python 3"
    },
    "language_info": {
      "name": "python"
    }
  },
  "cells": [
    {
      "cell_type": "code",
      "execution_count": 1,
      "metadata": {
        "colab": {
          "base_uri": "https://localhost:8080/"
        },
        "id": "Xho6wPnq3c9t",
        "outputId": "9b622681-1d55-4310-a3b3-2eea794ec4db"
      },
      "outputs": [
        {
          "output_type": "stream",
          "name": "stdout",
          "text": [
            "Mounted at /content/drive\n"
          ]
        }
      ],
      "source": [
        "from google.colab import drive\n",
        "drive.mount('/content/drive')"
      ]
    },
    {
      "cell_type": "code",
      "source": [
        "# -------- CONFIG --------\n",
        "CSV_PATH = \"/content/drive/MyDrive/New AI spreadsheet - Sheet1.csv\" # <-- change to your path\n",
        "SAVE_DIR = \"/content\"                             # <-- change to Drive folder if you like\n",
        "\n",
        "PATIENT_ID_COL = \"patientId\"\n",
        "TIME_START_COL = \"observationStart\"\n",
        "TIME_END_COL   = \"observationEnd\"\n",
        "\n",
        "# features: vitals + behaviours (includes mealsSkipped now)\n",
        "FEATURE_COLUMNS_RAW = [\n",
        "    \"heartRate\",\"spo2\",\"temperature\",\"bloodPressure\",\n",
        "    \"stepsTaken\",\"calorieIntake\",\"sleepHours\",\"waterIntakeMl\",\n",
        "    \"exerciseMinutes\",\"bathroomVisits\",\"mealsSkipped\"\n",
        "]\n",
        "\n",
        "# sequence config\n",
        "SEQ_LEN   = 12\n",
        "SEQ_STRIDE= 1\n",
        "\n",
        "# training config\n",
        "EPOCHS = 30\n",
        "BATCH_SIZE = 64\n",
        "LR = 1e-3\n",
        "VAL_SPLIT = 0.2\n",
        "PATIENCE = 6\n",
        "ANOMALY_PERCENTILE = 95  # for AE fallback\n",
        "\n",
        "# ------------------------\n",
        "import re, json, math, numpy as np, pandas as pd\n",
        "from datetime import datetime\n",
        "from sklearn.preprocessing import StandardScaler\n",
        "from sklearn.model_selection import train_test_split\n",
        "from sklearn.metrics import classification_report, confusion_matrix\n",
        "import matplotlib.pyplot as plt\n",
        "import tensorflow as tf\n",
        "from tensorflow import keras\n",
        "from tensorflow.keras import layers\n",
        "\n",
        "print(\"TF:\", tf.__version__)"
      ],
      "metadata": {
        "colab": {
          "base_uri": "https://localhost:8080/"
        },
        "id": "Drvsf3Fq4JtD",
        "outputId": "919303ea-aff2-4636-a242-f58f3a845164"
      },
      "execution_count": 6,
      "outputs": [
        {
          "output_type": "stream",
          "name": "stdout",
          "text": [
            "TF: 2.19.0\n"
          ]
        }
      ]
    },
    {
      "cell_type": "code",
      "source": [
        "# --------- Load ----------\n",
        "df = pd.read_csv(CSV_PATH)\n",
        "\n",
        "# sanity check\n",
        "req_base = [PATIENT_ID_COL, TIME_START_COL] + FEATURE_COLUMNS_RAW\n",
        "missing = [c for c in req_base if c not in df.columns]\n",
        "if missing:\n",
        "    raise ValueError(f\"Missing required columns: {missing}\")"
      ],
      "metadata": {
        "id": "07Sxqosl4Jpm"
      },
      "execution_count": 7,
      "outputs": []
    },
    {
      "cell_type": "code",
      "source": [
        "# --------- Parsers ----------\n",
        "def parse_num(x):\n",
        "    if pd.isna(x): return np.nan\n",
        "    if isinstance(x,(int,float)): return float(x)\n",
        "    m = re.search(r\"([\\d\\.]+)\", str(x))\n",
        "    return float(m.group(1)) if m else np.nan\n",
        "\n",
        "def parse_heart_rate(x): return parse_num(x)          # \"65 bpm\" -> 65\n",
        "def parse_spo2(x):       return parse_num(x)          # \"97%\"   -> 97\n",
        "def parse_temperature(x):return parse_num(x)          # \"36.5 °C\" -> 36.5\n",
        "def parse_bp(x):\n",
        "    if pd.isna(x): return (np.nan, np.nan)\n",
        "    if isinstance(x,(int,float)): return (float(x), np.nan)\n",
        "    m = re.search(r\"(\\d+)\\s*/\\s*(\\d+)\", str(x))\n",
        "    return (float(m.group(1)), float(m.group(2))) if m else (np.nan,np.nan)\n"
      ],
      "metadata": {
        "id": "8cuVMvN94Jnh"
      },
      "execution_count": 8,
      "outputs": []
    },
    {
      "cell_type": "code",
      "source": [
        "# --------- Timestamp & sort ----------\n",
        "df[\"_ts\"] = pd.to_datetime(df[TIME_START_COL], errors=\"coerce\")\n",
        "df = df.dropna(subset=[\"_ts\", PATIENT_ID_COL]).copy()\n",
        "df = df.sort_values([PATIENT_ID_COL, \"_ts\"]).reset_index(drop=True)"
      ],
      "metadata": {
        "id": "JBhKwLDT4JlN"
      },
      "execution_count": 9,
      "outputs": []
    },
    {
      "cell_type": "code",
      "source": [
        "# --------- Parse features ----------\n",
        "df[\"_hr\"]      = df[\"heartRate\"].apply(parse_heart_rate)\n",
        "df[\"_spo2\"]    = df[\"spo2\"].apply(parse_spo2)\n",
        "df[\"_temp\"]    = df[\"temperature\"].apply(parse_temperature)\n",
        "bp = df[\"bloodPressure\"].apply(parse_bp)\n",
        "df[\"_bp_sys\"]  = [b[0] for b in bp]\n",
        "df[\"_bp_dia\"]  = [b[1] for b in bp]\n",
        "df[\"_steps\"]   = df[\"stepsTaken\"].apply(parse_num) if \"stepsTaken\" in df.columns else np.nan\n",
        "df[\"_cal\"]     = df[\"calorieIntake\"].apply(parse_num) if \"calorieIntake\" in df.columns else np.nan\n",
        "df[\"_sleep\"]   = df[\"sleepHours\"].apply(parse_num) if \"sleepHours\" in df.columns else np.nan\n",
        "df[\"_water\"]   = df[\"waterIntakeMl\"].apply(parse_num) if \"waterIntakeMl\" in df.columns else np.nan\n",
        "df[\"_exercise\"]= df[\"exerciseMinutes\"].apply(parse_num) if \"exerciseMinutes\" in df.columns else np.nan\n",
        "df[\"_bathroom\"]= df[\"bathroomVisits\"].apply(parse_num) if \"bathroomVisits\" in df.columns else np.nan\n",
        "df[\"_meals\"]   = df[\"mealsSkipped\"].apply(parse_num) if \"mealsSkipped\" in df.columns else np.nan\n",
        "\n",
        "FEATURE_COLS = [\"_hr\",\"_spo2\",\"_temp\",\"_bp_sys\",\"_bp_dia\",\"_steps\",\"_cal\",\"_sleep\",\"_water\",\"_exercise\",\"_bathroom\",\"_meals\"]"
      ],
      "metadata": {
        "id": "vXJONJA74Jix"
      },
      "execution_count": 10,
      "outputs": []
    },
    {
      "cell_type": "code",
      "source": [
        "# drop rows where all features NaN\n",
        "df = df.dropna(subset=FEATURE_COLS, how=\"all\").copy()"
      ],
      "metadata": {
        "id": "qHZAIDzO4JgJ"
      },
      "execution_count": 11,
      "outputs": []
    },
    {
      "cell_type": "code",
      "source": [
        "for col in FEATURE_COLS:\n",
        "    df[col] = df.groupby(PATIENT_ID_COL)[col].ffill().bfill()\n",
        "\n",
        "df[FEATURE_COLS] = df[FEATURE_COLS].fillna(df[FEATURE_COLS].median())"
      ],
      "metadata": {
        "id": "mcE8cwjn4Jdr"
      },
      "execution_count": 14,
      "outputs": []
    },
    {
      "cell_type": "code",
      "source": [
        "# --------- Optional labels (state) ----------\n",
        "def clean_state(s):\n",
        "    if pd.isna(s): return None\n",
        "    s = str(s).strip().lower()\n",
        "    if s in (\"\", \"nan\", \"none\"): return None\n",
        "    return s\n",
        "\n",
        "if \"state\" in df.columns:\n",
        "    df[\"_state_clean\"] = df[\"state\"].apply(clean_state)\n",
        "else:\n",
        "    df[\"_state_clean\"] = None"
      ],
      "metadata": {
        "id": "D8hU3PiZ4JbL"
      },
      "execution_count": 15,
      "outputs": []
    },
    {
      "cell_type": "code",
      "source": [
        "# Map common labels to 3-class risk {Low, Medium, High}\n",
        "state_map = {\n",
        "    \"low\": \"low\", \"normal\": \"low\", \"ok\": \"low\", \"stable\": \"low\",\n",
        "    \"medium\": \"medium\", \"moderate\": \"medium\",\n",
        "    \"high\": \"high\", \"critical\": \"high\", \"alert\": \"high\", \"abnormal\": \"high\"\n",
        "}\n",
        "def map_to_risk(s):\n",
        "    if s is None: return None\n",
        "    # accept phrases like \"high risk\", \"medium alert\"\n",
        "    if \"high\" in s: return \"high\"\n",
        "    if \"medium\" in s or \"moderate\" in s: return \"medium\"\n",
        "    if \"low\" in s or \"normal\" in s or \"stable\" in s or \"ok\" in s: return \"low\"\n",
        "    # fallback via dict exacts\n",
        "    return state_map.get(s, None)\n",
        "\n",
        "df[\"_risk3\"] = df[\"_state_clean\"].apply(map_to_risk)\n",
        "has_labels = df[\"_risk3\"].notna().any()\n",
        "\n",
        "print(\"Labels detected for supervised training?\" , has_labels)"
      ],
      "metadata": {
        "colab": {
          "base_uri": "https://localhost:8080/"
        },
        "id": "oPx2jQIY4JYs",
        "outputId": "c9d181eb-c6e1-42ea-a478-c5a5c6d19bbf"
      },
      "execution_count": 16,
      "outputs": [
        {
          "output_type": "stream",
          "name": "stdout",
          "text": [
            "Labels detected for supervised training? True\n"
          ]
        }
      ]
    },
    {
      "cell_type": "code",
      "source": [
        "# --------- Scale ----------\n",
        "scaler = StandardScaler()\n",
        "df_scaled = df.copy()\n",
        "df_scaled[FEATURE_COLS] = scaler.fit_transform(df[FEATURE_COLS])"
      ],
      "metadata": {
        "id": "dh623n0Z4JWO"
      },
      "execution_count": 17,
      "outputs": []
    },
    {
      "cell_type": "code",
      "source": [
        "# --------- Build sequences per patient ----------\n",
        "def build_sequences(group, seq_len=SEQ_LEN, stride=SEQ_STRIDE, include_labels=False):\n",
        "    X, y, meta = [], [], []\n",
        "    feats = group[FEATURE_COLS].values\n",
        "    times = group[\"_ts\"].values\n",
        "    risks = group[\"_risk3\"].values if include_labels else None\n",
        "\n",
        "    for i in range(0, len(feats) - seq_len + 1, stride):\n",
        "        X.append(feats[i:i+seq_len])\n",
        "        if include_labels:\n",
        "            # label at sequence end (you can choose majority vote instead)\n",
        "            lbl = risks[i+seq_len-1]\n",
        "            y.append(lbl)\n",
        "        meta.append((i, i+seq_len-1, times[i+seq_len-1]))\n",
        "    X = np.array(X, dtype=np.float32)\n",
        "    y = np.array(y) if include_labels else None\n",
        "    return X, y, meta\n",
        "\n",
        "all_X, all_y, all_meta = [], [], []\n",
        "for pid, g in df_scaled.groupby(PATIENT_ID_COL):\n",
        "    Xp, yp, mp = build_sequences(g, include_labels=has_labels)\n",
        "    if len(Xp) > 0:\n",
        "        all_X.append(Xp)\n",
        "        all_meta += [(pid, *m) for m in mp]\n",
        "        if has_labels:\n",
        "            all_y.append(yp)\n",
        "\n",
        "X = np.concatenate(all_X, axis=0)\n",
        "y = np.concatenate(all_y, axis=0) if has_labels else None\n",
        "\n",
        "print(\"X shape:\", X.shape, \"| y shape:\", (None if y is None else y.shape))"
      ],
      "metadata": {
        "colab": {
          "base_uri": "https://localhost:8080/"
        },
        "id": "kyeSLjYy50CW",
        "outputId": "d3d2cfbc-cb2a-4e76-a267-d989d06a28fb"
      },
      "execution_count": 18,
      "outputs": [
        {
          "output_type": "stream",
          "name": "stdout",
          "text": [
            "X shape: (1755, 12, 12) | y shape: (1755,)\n"
          ]
        }
      ]
    },
    {
      "cell_type": "code",
      "source": [
        "# SUPERVISED: LSTM Classifier (if labels exist)\n",
        "if has_labels:\n",
        "    # Drop sequences with unknown labels first (built earlier when constructing y)\n",
        "    unique_labels = pd.Series(y).dropna().unique().tolist()\n",
        "    if len(unique_labels) < 2:\n",
        "        print(\"Only one (or zero) label present after windowing -> switching to Autoencoder path.\")\n",
        "        has_labels = False  # force AE path below\n",
        "\n",
        "if has_labels:\n",
        "    # Determine final label set and index mapping\n",
        "    # Keep canonical order but only include present classes\n",
        "    canonical = [\"low\", \"medium\", \"high\"]\n",
        "    present = [c for c in canonical if c in unique_labels]\n",
        "    cls_to_idx = {c: i for i, c in enumerate(present)}\n",
        "\n",
        "    # Filter to present classes only\n",
        "    keep = np.array([lbl in cls_to_idx for lbl in y])\n",
        "    X = X[keep]\n",
        "    y = y[keep]\n",
        "    filtered_all_meta = [all_meta[i] for i, v in enumerate(keep) if v]\n",
        "    y_idx = np.array([cls_to_idx[lbl] for lbl in y], dtype=np.int64)\n",
        "\n",
        "    timesteps, n_features = X.shape[1], X.shape[2]\n",
        "\n",
        "    # Choose head: binary vs softmax\n",
        "    num_classes = len(present)\n",
        "    binary_mode = (num_classes == 2)\n",
        "\n",
        "    # Safe split: only stratify when >1 class and class counts okay\n",
        "    try:\n",
        "        X_train, X_val, y_train, y_val = train_test_split(\n",
        "            X, y_idx, test_size=VAL_SPLIT, random_state=42, stratify=y_idx\n",
        "        )\n",
        "    except Exception as e:\n",
        "        print(\"Stratified split failed (often due to tiny class counts). Falling back to non-stratified split.\", e)\n",
        "        X_train, X_val, y_train, y_val = train_test_split(\n",
        "            X, y_idx, test_size=VAL_SPLIT, random_state=42, shuffle=True\n",
        "        )\n",
        "\n",
        "    # Model\n",
        "    inputs = keras.Input(shape=(timesteps, n_features))\n",
        "    x = layers.Masking()(inputs)\n",
        "    x = layers.LSTM(128, return_sequences=True, dropout=0.2)(x)\n",
        "    x = layers.LSTM(64, return_sequences=False, dropout=0.2)(x)\n",
        "    x = layers.Dense(64, activation=\"relu\")(x)\n",
        "    x = layers.Dropout(0.3)(x)\n",
        "\n",
        "    if binary_mode:\n",
        "        outputs = layers.Dense(1, activation=\"sigmoid\")(x)\n",
        "        loss_fn = \"binary_crossentropy\"\n",
        "        metrics = [\"accuracy\"]\n",
        "    else:\n",
        "        outputs = layers.Dense(num_classes, activation=\"softmax\")(x)\n",
        "        loss_fn = \"sparse_categorical_crossentropy\"\n",
        "        metrics = [\"accuracy\"]\n",
        "\n",
        "    clf = keras.Model(inputs, outputs)\n",
        "    clf.compile(optimizer=keras.optimizers.Adam(LR), loss=loss_fn, metrics=metrics)\n",
        "    clf.summary()\n",
        "\n",
        "    cb = [keras.callbacks.EarlyStopping(monitor=\"val_loss\", patience=PATIENCE, restore_best_weights=True)]\n",
        "    hist = clf.fit(X_train, y_train, validation_data=(X_val, y_val),\n",
        "                   epochs=EPOCHS, batch_size=BATCH_SIZE, callbacks=cb, verbose=1)\n",
        "\n",
        "    # Plots\n",
        "    plt.figure(figsize=(6,4))\n",
        "    plt.plot(hist.history[\"loss\"], label=\"train_loss\")\n",
        "    plt.plot(hist.history[\"val_loss\"], label=\"val_loss\")\n",
        "    plt.xlabel(\"Epoch\"); plt.ylabel(\"Loss\"); plt.title(\"Classifier Training\"); plt.legend(); plt.show()\n",
        "\n",
        "    # Evaluation\n",
        "    if binary_mode:\n",
        "        y_prob = clf.predict(X_val, batch_size=256, verbose=0).ravel()\n",
        "        y_pred_val = (y_prob >= 0.5).astype(int)\n",
        "        target_names = [present[i] for i in sorted(range(num_classes))]\n",
        "    else:\n",
        "        y_pred_val = np.argmax(clf.predict(X_val, batch_size=256, verbose=0), axis=1)\n",
        "        target_names = [present[i] for i in sorted(np.unique(y_val))]\n",
        "\n",
        "    from sklearn.metrics import classification_report, confusion_matrix\n",
        "    print(classification_report(y_val, y_pred_val, target_names=target_names))\n",
        "    print(\"Confusion matrix:\\n\", confusion_matrix(y_val, y_pred_val))\n",
        "\n",
        "    # Save model + scaler\n",
        "    MODEL_PATH = f\"{SAVE_DIR}/guardian_lstm_classifier.keras\"\n",
        "    SCALER_PATH = f\"{SAVE_DIR}/scaler.npy\"\n",
        "    np.save(SCALER_PATH, {\"mean_\": scaler.mean_, \"scale_\": scaler.scale_, \"feature_names\": FEATURE_COLS}, allow_pickle=True)\n",
        "    clf.save(MODEL_PATH)\n",
        "    print(\"Saved:\", MODEL_PATH, \"and\", SCALER_PATH)\n",
        "\n",
        "    # Predictions for ALL sequences (filtered)\n",
        "    if binary_mode:\n",
        "        y_prob_all = clf.predict(X, batch_size=256, verbose=0).ravel()\n",
        "        y_pred_all = (y_prob_all >= 0.5).astype(int)\n",
        "        inv_idx = {i: c for c, i in cls_to_idx.items()}\n",
        "        risk_pred = [inv_idx[i] for i in y_pred_all]\n",
        "    else:\n",
        "        y_pred_all = np.argmax(clf.predict(X, batch_size=256, verbose=0), axis=1)\n",
        "        inv_idx = {i: c for c, i in cls_to_idx.items()}\n",
        "        risk_pred = [inv_idx[i] for i in y_pred_all]\n",
        "\n",
        "    res = pd.DataFrame({\n",
        "        \"patientId_seqEnd\": [m[0] for m in filtered_all_meta],\n",
        "        \"seq_start_idx\": [m[1] for m in filtered_all_meta],\n",
        "        \"seq_end_idx\":   [m[2] for m in filtered_all_meta],\n",
        "        \"seq_end_time\":  [m[3] for m in filtered_all_meta],\n",
        "        \"risk_pred\": risk_pred\n",
        "    })\n",
        "    res[\"risk_true\"] = [inv_idx[i] for i in y_idx]\n",
        "    OUT_PATH = f\"{SAVE_DIR}/guardian_classifier_predictions.csv\"\n",
        "    res.to_csv(OUT_PATH, index=False)\n",
        "    print(\"Saved predictions:\", OUT_PATH)\n",
        "\n",
        "\n",
        "# =========================\n",
        "# UNSUPERVISED: LSTM Autoencoder (fallback)\n",
        "# =========================\n",
        "else:\n",
        "    # Debug: check sequence/meta sizes before split\n",
        "    print(f\"[AE] Total sequences: {len(X)} | meta entries: {len(all_meta)}\")\n",
        "\n",
        "    X_train, X_val = train_test_split(X, test_size=VAL_SPLIT, random_state=42, shuffle=True)\n",
        "    timesteps, n_features = X.shape[1], X.shape[2]\n",
        "\n",
        "    inputs = keras.Input(shape=(timesteps, n_features))\n",
        "    # Encoder\n",
        "    x = layers.LSTM(128, return_sequences=True)(inputs)\n",
        "    x = layers.LSTM(64, return_sequences=False)(x)\n",
        "    encoded = layers.Dense(32, activation=\"relu\")(x)\n",
        "    # Decoder\n",
        "    x = layers.RepeatVector(timesteps)(encoded)\n",
        "    x = layers.LSTM(64, return_sequences=True)(x)\n",
        "    x = layers.LSTM(128, return_sequences=True)(x)\n",
        "    outputs = layers.TimeDistributed(layers.Dense(n_features))(x)\n",
        "\n",
        "    ae = keras.Model(inputs, outputs)\n",
        "    ae.compile(optimizer=keras.optimizers.Adam(LR), loss=\"mse\")\n",
        "    ae.summary()\n",
        "\n",
        "    cb = [keras.callbacks.EarlyStopping(monitor=\"val_loss\", patience=PATIENCE, restore_best_weights=True)]\n",
        "    hist = ae.fit(X_train, X_train, validation_data=(X_val, X_val),\n",
        "                  epochs=EPOCHS, batch_size=BATCH_SIZE, callbacks=cb, verbose=1)\n",
        "\n",
        "    # Plot\n",
        "    plt.figure(figsize=(6,4))\n",
        "    plt.plot(hist.history[\"loss\"], label=\"train_loss\")\n",
        "    plt.plot(hist.history[\"val_loss\"], label=\"val_loss\")\n",
        "    plt.xlabel(\"Epoch\"); plt.ylabel(\"MSE\"); plt.title(\"Autoencoder Training\"); plt.legend(); plt.show()\n",
        "\n",
        "    # Errors\n",
        "    def recon_err(m, Xb):\n",
        "        Xh = m.predict(Xb, batch_size=256, verbose=0)\n",
        "        return np.mean((Xh - Xb)**2, axis=(1,2))\n",
        "\n",
        "    train_err = recon_err(ae, X_train)\n",
        "    thr = np.percentile(train_err, ANOMALY_PERCENTILE)\n",
        "    print(f\"[AE] Threshold p{ANOMALY_PERCENTILE}: {thr:.6f}\")\n",
        "\n",
        "    all_err = recon_err(ae, X)\n",
        "    is_anom = (all_err >= thr).astype(int)\n",
        "\n",
        "    def err_to_risk(e, t):\n",
        "        if e < t: return \"low\"\n",
        "        elif e < 1.5*t: return \"medium\"\n",
        "        else: return \"high\"\n",
        "\n",
        "    risk = [err_to_risk(e, thr) for e in all_err]\n",
        "\n",
        "    # --- Align meta and error arrays if lengths differ (common after partial re-runs)\n",
        "    len_meta = len(all_meta)\n",
        "    len_err  = len(all_err)\n",
        "    if len_meta != len_err:\n",
        "        print(f\"[AE] Warning: meta ({len_meta}) != errors ({len_err}). Aligning to min length.\")\n",
        "        k = min(len_meta, len_err)\n",
        "        all_meta = all_meta[:k]\n",
        "        all_err  = all_err[:k]\n",
        "        is_anom  = is_anom[:k]\n",
        "        risk     = risk[:k]\n",
        "\n",
        "    # Build results\n",
        "    res = pd.DataFrame({\n",
        "        \"patientId_seqEnd\": [m[0] for m in all_meta],\n",
        "        \"seq_start_idx\":    [m[1] for m in all_meta],\n",
        "        \"seq_end_idx\":      [m[2] for m in all_meta],\n",
        "        \"seq_end_time\":     [m[3] for m in all_meta],\n",
        "        \"recon_error\":      all_err,\n",
        "        \"is_anomaly\":       is_anom,\n",
        "        \"risk_pred\":        risk\n",
        "    })\n",
        "\n",
        "    # Save artifacts\n",
        "    MODEL_PATH = f\"{SAVE_DIR}/guardian_lstm_autoencoder.keras\"\n",
        "    SCALER_PATH = f\"{SAVE_DIR}/scaler.npy\"\n",
        "    np.save(SCALER_PATH, {\"mean_\": scaler.mean_, \"scale_\": scaler.scale_, \"feature_names\": FEATURE_COLS}, allow_pickle=True)\n",
        "    ae.save(MODEL_PATH)\n",
        "\n",
        "    OUT_PATH = f\"{SAVE_DIR}/guardian_ae_predictions.csv\"\n",
        "    res.to_csv(OUT_PATH, index=False)\n",
        "    print(\"Saved:\", MODEL_PATH, SCALER_PATH, OUT_PATH)\n",
        "\n",
        "# =========================\n",
        "# Inference helper (later for API)\n",
        "# =========================\n",
        "def make_sequence_from_rows(rows_df, scaler_obj=None, feature_cols=FEATURE_COLS, seq_len=SEQ_LEN):\n",
        "    tmp = rows_df.copy()\n",
        "    # parse again\n",
        "    tmp[\"_hr\"]      = tmp[\"heartRate\"].apply(parse_heart_rate)\n",
        "    tmp[\"_spo2\"]    = tmp[\"spo2\"].apply(parse_spo2)\n",
        "    tmp[\"_temp\"]    = tmp[\"temperature\"].apply(parse_temperature)\n",
        "    bp = tmp[\"bloodPressure\"].apply(parse_bp)\n",
        "    tmp[\"_bp_sys\"]  = [b[0] for b in bp]\n",
        "    tmp[\"_bp_dia\"]  = [b[1] for b in bp]\n",
        "    tmp[\"_steps\"]   = tmp[\"stepsTaken\"].apply(parse_num) if \"stepsTaken\" in tmp.columns else np.nan\n",
        "    tmp[\"_cal\"]     = tmp[\"calorieIntake\"].apply(parse_num) if \"calorieIntake\" in tmp.columns else np.nan\n",
        "    tmp[\"_sleep\"]   = tmp[\"sleepHours\"].apply(parse_num) if \"sleepHours\" in tmp.columns else np.nan\n",
        "    tmp[\"_water\"]   = tmp[\"waterIntakeMl\"].apply(parse_num) if \"waterIntakeMl\" in tmp.columns else np.nan\n",
        "    tmp[\"_exercise\"]= tmp[\"exerciseMinutes\"].apply(parse_num) if \"exerciseMinutes\" in tmp.columns else np.nan\n",
        "    tmp[\"_bathroom\"]= tmp[\"bathroomVisits\"].apply(parse_num) if \"bathroomVisits\" in tmp.columns else np.nan\n",
        "    tmp[\"_meals\"]   = tmp[\"mealsSkipped\"].apply(parse_num) if \"mealsSkipped\" in tmp.columns else np.nan\n",
        "\n",
        "    tmp = tmp.sort_values(TIME_START_COL)\n",
        "    feats = tmp[feature_cols].ffill().bfill()\n",
        "    feats = feats.fillna(feats.median())\n",
        "\n",
        "    if scaler_obj is not None:\n",
        "        # scaler_obj should be dict with mean_ and scale_\n",
        "        mean_ = np.array(scaler_obj.item().get(\"mean_\")) if hasattr(scaler_obj, \"item\") else scaler_obj[\"mean_\"]\n",
        "        scale_= np.array(scaler_obj.item().get(\"scale_\")) if hasattr(scaler_obj, \"item\") else scaler_obj[\"scale_\"]\n",
        "        feats = (feats.values - mean_) / scale_\n",
        "    else:\n",
        "        # If scaler_obj is None, return the raw (filled) features\n",
        "        feats = feats.values\n",
        "\n",
        "    if len(feats) != seq_len:\n",
        "        raise ValueError(f\"Need exactly {seq_len} rows to form one sequence, got {len(feats)}.\")\n",
        "    return np.expand_dims(feats.astype(np.float32), axis=0)\n",
        "\n",
        "print(\"Notebook ready: trains classifier if labels exist; otherwise trains AE fallback.\")"
      ],
      "metadata": {
        "colab": {
          "base_uri": "https://localhost:8080/",
          "height": 1000
        },
        "id": "M64KyHbi5z-2",
        "outputId": "0fc17dae-9409-4cd0-964c-42fe2745aac3"
      },
      "execution_count": 27,
      "outputs": [
        {
          "output_type": "stream",
          "name": "stdout",
          "text": [
            "[AE] Total sequences: 183 | meta entries: 1755\n"
          ]
        },
        {
          "output_type": "display_data",
          "data": {
            "text/plain": [
              "\u001b[1mModel: \"functional_7\"\u001b[0m\n"
            ],
            "text/html": [
              "<pre style=\"white-space:pre;overflow-x:auto;line-height:normal;font-family:Menlo,'DejaVu Sans Mono',consolas,'Courier New',monospace\"><span style=\"font-weight: bold\">Model: \"functional_7\"</span>\n",
              "</pre>\n"
            ]
          },
          "metadata": {}
        },
        {
          "output_type": "display_data",
          "data": {
            "text/plain": [
              "┏━━━━━━━━━━━━━━━━━━━━━━━━━━━━━━━━━┳━━━━━━━━━━━━━━━━━━━━━━━━┳━━━━━━━━━━━━━━━┓\n",
              "┃\u001b[1m \u001b[0m\u001b[1mLayer (type)                   \u001b[0m\u001b[1m \u001b[0m┃\u001b[1m \u001b[0m\u001b[1mOutput Shape          \u001b[0m\u001b[1m \u001b[0m┃\u001b[1m \u001b[0m\u001b[1m      Param #\u001b[0m\u001b[1m \u001b[0m┃\n",
              "┡━━━━━━━━━━━━━━━━━━━━━━━━━━━━━━━━━╇━━━━━━━━━━━━━━━━━━━━━━━━╇━━━━━━━━━━━━━━━┩\n",
              "│ input_layer_7 (\u001b[38;5;33mInputLayer\u001b[0m)      │ (\u001b[38;5;45mNone\u001b[0m, \u001b[38;5;34m12\u001b[0m, \u001b[38;5;34m12\u001b[0m)         │             \u001b[38;5;34m0\u001b[0m │\n",
              "├─────────────────────────────────┼────────────────────────┼───────────────┤\n",
              "│ lstm_16 (\u001b[38;5;33mLSTM\u001b[0m)                  │ (\u001b[38;5;45mNone\u001b[0m, \u001b[38;5;34m12\u001b[0m, \u001b[38;5;34m128\u001b[0m)        │        \u001b[38;5;34m72,192\u001b[0m │\n",
              "├─────────────────────────────────┼────────────────────────┼───────────────┤\n",
              "│ lstm_17 (\u001b[38;5;33mLSTM\u001b[0m)                  │ (\u001b[38;5;45mNone\u001b[0m, \u001b[38;5;34m64\u001b[0m)             │        \u001b[38;5;34m49,408\u001b[0m │\n",
              "├─────────────────────────────────┼────────────────────────┼───────────────┤\n",
              "│ dense_14 (\u001b[38;5;33mDense\u001b[0m)                │ (\u001b[38;5;45mNone\u001b[0m, \u001b[38;5;34m32\u001b[0m)             │         \u001b[38;5;34m2,080\u001b[0m │\n",
              "├─────────────────────────────────┼────────────────────────┼───────────────┤\n",
              "│ repeat_vector_1 (\u001b[38;5;33mRepeatVector\u001b[0m)  │ (\u001b[38;5;45mNone\u001b[0m, \u001b[38;5;34m12\u001b[0m, \u001b[38;5;34m32\u001b[0m)         │             \u001b[38;5;34m0\u001b[0m │\n",
              "├─────────────────────────────────┼────────────────────────┼───────────────┤\n",
              "│ lstm_18 (\u001b[38;5;33mLSTM\u001b[0m)                  │ (\u001b[38;5;45mNone\u001b[0m, \u001b[38;5;34m12\u001b[0m, \u001b[38;5;34m64\u001b[0m)         │        \u001b[38;5;34m24,832\u001b[0m │\n",
              "├─────────────────────────────────┼────────────────────────┼───────────────┤\n",
              "│ lstm_19 (\u001b[38;5;33mLSTM\u001b[0m)                  │ (\u001b[38;5;45mNone\u001b[0m, \u001b[38;5;34m12\u001b[0m, \u001b[38;5;34m128\u001b[0m)        │        \u001b[38;5;34m98,816\u001b[0m │\n",
              "├─────────────────────────────────┼────────────────────────┼───────────────┤\n",
              "│ time_distributed_1              │ (\u001b[38;5;45mNone\u001b[0m, \u001b[38;5;34m12\u001b[0m, \u001b[38;5;34m12\u001b[0m)         │         \u001b[38;5;34m1,548\u001b[0m │\n",
              "│ (\u001b[38;5;33mTimeDistributed\u001b[0m)               │                        │               │\n",
              "└─────────────────────────────────┴────────────────────────┴───────────────┘\n"
            ],
            "text/html": [
              "<pre style=\"white-space:pre;overflow-x:auto;line-height:normal;font-family:Menlo,'DejaVu Sans Mono',consolas,'Courier New',monospace\">┏━━━━━━━━━━━━━━━━━━━━━━━━━━━━━━━━━┳━━━━━━━━━━━━━━━━━━━━━━━━┳━━━━━━━━━━━━━━━┓\n",
              "┃<span style=\"font-weight: bold\"> Layer (type)                    </span>┃<span style=\"font-weight: bold\"> Output Shape           </span>┃<span style=\"font-weight: bold\">       Param # </span>┃\n",
              "┡━━━━━━━━━━━━━━━━━━━━━━━━━━━━━━━━━╇━━━━━━━━━━━━━━━━━━━━━━━━╇━━━━━━━━━━━━━━━┩\n",
              "│ input_layer_7 (<span style=\"color: #0087ff; text-decoration-color: #0087ff\">InputLayer</span>)      │ (<span style=\"color: #00d7ff; text-decoration-color: #00d7ff\">None</span>, <span style=\"color: #00af00; text-decoration-color: #00af00\">12</span>, <span style=\"color: #00af00; text-decoration-color: #00af00\">12</span>)         │             <span style=\"color: #00af00; text-decoration-color: #00af00\">0</span> │\n",
              "├─────────────────────────────────┼────────────────────────┼───────────────┤\n",
              "│ lstm_16 (<span style=\"color: #0087ff; text-decoration-color: #0087ff\">LSTM</span>)                  │ (<span style=\"color: #00d7ff; text-decoration-color: #00d7ff\">None</span>, <span style=\"color: #00af00; text-decoration-color: #00af00\">12</span>, <span style=\"color: #00af00; text-decoration-color: #00af00\">128</span>)        │        <span style=\"color: #00af00; text-decoration-color: #00af00\">72,192</span> │\n",
              "├─────────────────────────────────┼────────────────────────┼───────────────┤\n",
              "│ lstm_17 (<span style=\"color: #0087ff; text-decoration-color: #0087ff\">LSTM</span>)                  │ (<span style=\"color: #00d7ff; text-decoration-color: #00d7ff\">None</span>, <span style=\"color: #00af00; text-decoration-color: #00af00\">64</span>)             │        <span style=\"color: #00af00; text-decoration-color: #00af00\">49,408</span> │\n",
              "├─────────────────────────────────┼────────────────────────┼───────────────┤\n",
              "│ dense_14 (<span style=\"color: #0087ff; text-decoration-color: #0087ff\">Dense</span>)                │ (<span style=\"color: #00d7ff; text-decoration-color: #00d7ff\">None</span>, <span style=\"color: #00af00; text-decoration-color: #00af00\">32</span>)             │         <span style=\"color: #00af00; text-decoration-color: #00af00\">2,080</span> │\n",
              "├─────────────────────────────────┼────────────────────────┼───────────────┤\n",
              "│ repeat_vector_1 (<span style=\"color: #0087ff; text-decoration-color: #0087ff\">RepeatVector</span>)  │ (<span style=\"color: #00d7ff; text-decoration-color: #00d7ff\">None</span>, <span style=\"color: #00af00; text-decoration-color: #00af00\">12</span>, <span style=\"color: #00af00; text-decoration-color: #00af00\">32</span>)         │             <span style=\"color: #00af00; text-decoration-color: #00af00\">0</span> │\n",
              "├─────────────────────────────────┼────────────────────────┼───────────────┤\n",
              "│ lstm_18 (<span style=\"color: #0087ff; text-decoration-color: #0087ff\">LSTM</span>)                  │ (<span style=\"color: #00d7ff; text-decoration-color: #00d7ff\">None</span>, <span style=\"color: #00af00; text-decoration-color: #00af00\">12</span>, <span style=\"color: #00af00; text-decoration-color: #00af00\">64</span>)         │        <span style=\"color: #00af00; text-decoration-color: #00af00\">24,832</span> │\n",
              "├─────────────────────────────────┼────────────────────────┼───────────────┤\n",
              "│ lstm_19 (<span style=\"color: #0087ff; text-decoration-color: #0087ff\">LSTM</span>)                  │ (<span style=\"color: #00d7ff; text-decoration-color: #00d7ff\">None</span>, <span style=\"color: #00af00; text-decoration-color: #00af00\">12</span>, <span style=\"color: #00af00; text-decoration-color: #00af00\">128</span>)        │        <span style=\"color: #00af00; text-decoration-color: #00af00\">98,816</span> │\n",
              "├─────────────────────────────────┼────────────────────────┼───────────────┤\n",
              "│ time_distributed_1              │ (<span style=\"color: #00d7ff; text-decoration-color: #00d7ff\">None</span>, <span style=\"color: #00af00; text-decoration-color: #00af00\">12</span>, <span style=\"color: #00af00; text-decoration-color: #00af00\">12</span>)         │         <span style=\"color: #00af00; text-decoration-color: #00af00\">1,548</span> │\n",
              "│ (<span style=\"color: #0087ff; text-decoration-color: #0087ff\">TimeDistributed</span>)               │                        │               │\n",
              "└─────────────────────────────────┴────────────────────────┴───────────────┘\n",
              "</pre>\n"
            ]
          },
          "metadata": {}
        },
        {
          "output_type": "display_data",
          "data": {
            "text/plain": [
              "\u001b[1m Total params: \u001b[0m\u001b[38;5;34m248,876\u001b[0m (972.17 KB)\n"
            ],
            "text/html": [
              "<pre style=\"white-space:pre;overflow-x:auto;line-height:normal;font-family:Menlo,'DejaVu Sans Mono',consolas,'Courier New',monospace\"><span style=\"font-weight: bold\"> Total params: </span><span style=\"color: #00af00; text-decoration-color: #00af00\">248,876</span> (972.17 KB)\n",
              "</pre>\n"
            ]
          },
          "metadata": {}
        },
        {
          "output_type": "display_data",
          "data": {
            "text/plain": [
              "\u001b[1m Trainable params: \u001b[0m\u001b[38;5;34m248,876\u001b[0m (972.17 KB)\n"
            ],
            "text/html": [
              "<pre style=\"white-space:pre;overflow-x:auto;line-height:normal;font-family:Menlo,'DejaVu Sans Mono',consolas,'Courier New',monospace\"><span style=\"font-weight: bold\"> Trainable params: </span><span style=\"color: #00af00; text-decoration-color: #00af00\">248,876</span> (972.17 KB)\n",
              "</pre>\n"
            ]
          },
          "metadata": {}
        },
        {
          "output_type": "display_data",
          "data": {
            "text/plain": [
              "\u001b[1m Non-trainable params: \u001b[0m\u001b[38;5;34m0\u001b[0m (0.00 B)\n"
            ],
            "text/html": [
              "<pre style=\"white-space:pre;overflow-x:auto;line-height:normal;font-family:Menlo,'DejaVu Sans Mono',consolas,'Courier New',monospace\"><span style=\"font-weight: bold\"> Non-trainable params: </span><span style=\"color: #00af00; text-decoration-color: #00af00\">0</span> (0.00 B)\n",
              "</pre>\n"
            ]
          },
          "metadata": {}
        },
        {
          "output_type": "stream",
          "name": "stdout",
          "text": [
            "Epoch 1/30\n",
            "\u001b[1m3/3\u001b[0m \u001b[32m━━━━━━━━━━━━━━━━━━━━\u001b[0m\u001b[37m\u001b[0m \u001b[1m6s\u001b[0m 462ms/step - loss: 1.1251 - val_loss: 1.0944\n",
            "Epoch 2/30\n",
            "\u001b[1m3/3\u001b[0m \u001b[32m━━━━━━━━━━━━━━━━━━━━\u001b[0m\u001b[37m\u001b[0m \u001b[1m1s\u001b[0m 114ms/step - loss: 1.0820 - val_loss: 1.0775\n",
            "Epoch 3/30\n",
            "\u001b[1m3/3\u001b[0m \u001b[32m━━━━━━━━━━━━━━━━━━━━\u001b[0m\u001b[37m\u001b[0m \u001b[1m1s\u001b[0m 121ms/step - loss: 1.0693 - val_loss: 1.0631\n",
            "Epoch 4/30\n",
            "\u001b[1m3/3\u001b[0m \u001b[32m━━━━━━━━━━━━━━━━━━━━\u001b[0m\u001b[37m\u001b[0m \u001b[1m0s\u001b[0m 91ms/step - loss: 1.0410 - val_loss: 1.0509\n",
            "Epoch 5/30\n",
            "\u001b[1m3/3\u001b[0m \u001b[32m━━━━━━━━━━━━━━━━━━━━\u001b[0m\u001b[37m\u001b[0m \u001b[1m0s\u001b[0m 74ms/step - loss: 1.0285 - val_loss: 1.0446\n",
            "Epoch 6/30\n",
            "\u001b[1m3/3\u001b[0m \u001b[32m━━━━━━━━━━━━━━━━━━━━\u001b[0m\u001b[37m\u001b[0m \u001b[1m0s\u001b[0m 89ms/step - loss: 1.0136 - val_loss: 1.0308\n",
            "Epoch 7/30\n",
            "\u001b[1m3/3\u001b[0m \u001b[32m━━━━━━━━━━━━━━━━━━━━\u001b[0m\u001b[37m\u001b[0m \u001b[1m0s\u001b[0m 89ms/step - loss: 1.0140 - val_loss: 1.0221\n",
            "Epoch 8/30\n",
            "\u001b[1m3/3\u001b[0m \u001b[32m━━━━━━━━━━━━━━━━━━━━\u001b[0m\u001b[37m\u001b[0m \u001b[1m0s\u001b[0m 87ms/step - loss: 0.9924 - val_loss: 1.0162\n",
            "Epoch 9/30\n",
            "\u001b[1m3/3\u001b[0m \u001b[32m━━━━━━━━━━━━━━━━━━━━\u001b[0m\u001b[37m\u001b[0m \u001b[1m0s\u001b[0m 71ms/step - loss: 0.9924 - val_loss: 1.0112\n",
            "Epoch 10/30\n",
            "\u001b[1m3/3\u001b[0m \u001b[32m━━━━━━━━━━━━━━━━━━━━\u001b[0m\u001b[37m\u001b[0m \u001b[1m0s\u001b[0m 75ms/step - loss: 0.9994 - val_loss: 1.0051\n",
            "Epoch 11/30\n",
            "\u001b[1m3/3\u001b[0m \u001b[32m━━━━━━━━━━━━━━━━━━━━\u001b[0m\u001b[37m\u001b[0m \u001b[1m0s\u001b[0m 71ms/step - loss: 0.9917 - val_loss: 1.0010\n",
            "Epoch 12/30\n",
            "\u001b[1m3/3\u001b[0m \u001b[32m━━━━━━━━━━━━━━━━━━━━\u001b[0m\u001b[37m\u001b[0m \u001b[1m0s\u001b[0m 66ms/step - loss: 0.9999 - val_loss: 1.0003\n",
            "Epoch 13/30\n",
            "\u001b[1m3/3\u001b[0m \u001b[32m━━━━━━━━━━━━━━━━━━━━\u001b[0m\u001b[37m\u001b[0m \u001b[1m0s\u001b[0m 82ms/step - loss: 0.9883 - val_loss: 0.9979\n",
            "Epoch 14/30\n",
            "\u001b[1m3/3\u001b[0m \u001b[32m━━━━━━━━━━━━━━━━━━━━\u001b[0m\u001b[37m\u001b[0m \u001b[1m0s\u001b[0m 63ms/step - loss: 0.9774 - val_loss: 0.9937\n",
            "Epoch 15/30\n",
            "\u001b[1m3/3\u001b[0m \u001b[32m━━━━━━━━━━━━━━━━━━━━\u001b[0m\u001b[37m\u001b[0m \u001b[1m0s\u001b[0m 64ms/step - loss: 0.9688 - val_loss: 0.9920\n",
            "Epoch 16/30\n",
            "\u001b[1m3/3\u001b[0m \u001b[32m━━━━━━━━━━━━━━━━━━━━\u001b[0m\u001b[37m\u001b[0m \u001b[1m0s\u001b[0m 71ms/step - loss: 0.9457 - val_loss: 0.9872\n",
            "Epoch 17/30\n",
            "\u001b[1m3/3\u001b[0m \u001b[32m━━━━━━━━━━━━━━━━━━━━\u001b[0m\u001b[37m\u001b[0m \u001b[1m0s\u001b[0m 75ms/step - loss: 0.9702 - val_loss: 0.9864\n",
            "Epoch 18/30\n",
            "\u001b[1m3/3\u001b[0m \u001b[32m━━━━━━━━━━━━━━━━━━━━\u001b[0m\u001b[37m\u001b[0m \u001b[1m0s\u001b[0m 93ms/step - loss: 0.9738 - val_loss: 0.9854\n",
            "Epoch 19/30\n",
            "\u001b[1m3/3\u001b[0m \u001b[32m━━━━━━━━━━━━━━━━━━━━\u001b[0m\u001b[37m\u001b[0m \u001b[1m0s\u001b[0m 69ms/step - loss: 0.9678 - val_loss: 0.9845\n",
            "Epoch 20/30\n",
            "\u001b[1m3/3\u001b[0m \u001b[32m━━━━━━━━━━━━━━━━━━━━\u001b[0m\u001b[37m\u001b[0m \u001b[1m0s\u001b[0m 78ms/step - loss: 0.9688 - val_loss: 0.9831\n",
            "Epoch 21/30\n",
            "\u001b[1m3/3\u001b[0m \u001b[32m━━━━━━━━━━━━━━━━━━━━\u001b[0m\u001b[37m\u001b[0m \u001b[1m0s\u001b[0m 70ms/step - loss: 0.9461 - val_loss: 0.9815\n",
            "Epoch 22/30\n",
            "\u001b[1m3/3\u001b[0m \u001b[32m━━━━━━━━━━━━━━━━━━━━\u001b[0m\u001b[37m\u001b[0m \u001b[1m0s\u001b[0m 64ms/step - loss: 0.9542 - val_loss: 0.9805\n",
            "Epoch 23/30\n",
            "\u001b[1m3/3\u001b[0m \u001b[32m━━━━━━━━━━━━━━━━━━━━\u001b[0m\u001b[37m\u001b[0m \u001b[1m0s\u001b[0m 61ms/step - loss: 0.9492 - val_loss: 0.9791\n",
            "Epoch 24/30\n",
            "\u001b[1m3/3\u001b[0m \u001b[32m━━━━━━━━━━━━━━━━━━━━\u001b[0m\u001b[37m\u001b[0m \u001b[1m0s\u001b[0m 73ms/step - loss: 0.9443 - val_loss: 0.9793\n",
            "Epoch 25/30\n",
            "\u001b[1m3/3\u001b[0m \u001b[32m━━━━━━━━━━━━━━━━━━━━\u001b[0m\u001b[37m\u001b[0m \u001b[1m0s\u001b[0m 72ms/step - loss: 0.9546 - val_loss: 0.9768\n",
            "Epoch 26/30\n",
            "\u001b[1m3/3\u001b[0m \u001b[32m━━━━━━━━━━━━━━━━━━━━\u001b[0m\u001b[37m\u001b[0m \u001b[1m0s\u001b[0m 67ms/step - loss: 0.9559 - val_loss: 0.9761\n",
            "Epoch 27/30\n",
            "\u001b[1m3/3\u001b[0m \u001b[32m━━━━━━━━━━━━━━━━━━━━\u001b[0m\u001b[37m\u001b[0m \u001b[1m0s\u001b[0m 73ms/step - loss: 0.9449 - val_loss: 0.9757\n",
            "Epoch 28/30\n",
            "\u001b[1m3/3\u001b[0m \u001b[32m━━━━━━━━━━━━━━━━━━━━\u001b[0m\u001b[37m\u001b[0m \u001b[1m0s\u001b[0m 78ms/step - loss: 0.9486 - val_loss: 0.9723\n",
            "Epoch 29/30\n",
            "\u001b[1m3/3\u001b[0m \u001b[32m━━━━━━━━━━━━━━━━━━━━\u001b[0m\u001b[37m\u001b[0m \u001b[1m0s\u001b[0m 67ms/step - loss: 0.9168 - val_loss: 0.9743\n",
            "Epoch 30/30\n",
            "\u001b[1m3/3\u001b[0m \u001b[32m━━━━━━━━━━━━━━━━━━━━\u001b[0m\u001b[37m\u001b[0m \u001b[1m0s\u001b[0m 66ms/step - loss: 0.9393 - val_loss: 0.9696\n"
          ]
        },
        {
          "output_type": "display_data",
          "data": {
            "text/plain": [
              "<Figure size 600x400 with 1 Axes>"
            ],
            "image/png": "[encoded data removed]"
          },
          "metadata": {}
        },
        {
          "output_type": "stream",
          "name": "stdout",
          "text": [
            "[AE] Threshold p95: 1.482489\n",
            "[AE] Warning: meta (1755) != errors (183). Aligning to min length.\n",
            "Saved: /content/guardian_lstm_autoencoder.keras /content/scaler.npy /content/guardian_ae_predictions.csv\n",
            "Notebook ready: trains classifier if labels exist; otherwise trains AE fallback.\n"
          ]
        }
      ]
    },
    {
      "cell_type": "code",
      "source": [],
      "metadata": {
        "id": "hRF4MaHg5z5p"
      },
      "execution_count": null,
      "outputs": []
    },
    {
      "cell_type": "code",
      "source": [],
      "metadata": {
        "id": "084wc5Ks4JTn"
      },
      "execution_count": null,
      "outputs": []
    },
    {
      "cell_type": "code",
      "source": [],
      "metadata": {
        "id": "uu1z7dKc4JRG"
      },
      "execution_count": null,
      "outputs": []
    }
  ]
}